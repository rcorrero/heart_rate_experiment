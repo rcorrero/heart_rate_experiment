{
  "nbformat": 4,
  "nbformat_minor": 0,
  "metadata": {
    "colab": {
      "name": "stats_363_final_code_02.ipynb",
      "provenance": [],
      "collapsed_sections": []
    },
    "kernelspec": {
      "name": "python3",
      "display_name": "Python 3"
    },
    "language_info": {
      "name": "python"
    }
  },
  "cells": [
    {
      "cell_type": "code",
      "metadata": {
        "id": "3rn2pNyScymo"
      },
      "source": [
        "import numpy as np\n",
        "import pandas as pd\n",
        "import pylab\n",
        "import scipy.stats as stats\n",
        "import statsmodels.api as sm\n",
        "import matplotlib.pyplot as plt"
      ],
      "execution_count": 13,
      "outputs": []
    },
    {
      "cell_type": "code",
      "metadata": {
        "id": "W-BSffIeMnqr"
      },
      "source": [
        "factor_labels = {\n",
        "    't_awake': 0,\n",
        "    'fasting': 1,\n",
        "    'coffee': 2,\n",
        "    't_run': 3,\n",
        "}"
      ],
      "execution_count": 68,
      "outputs": []
    },
    {
      "cell_type": "code",
      "metadata": {
        "id": "k4CnChy0-5k1"
      },
      "source": [
        "design_mat = np.loadtxt('/content/design_mat.txt')\n",
        "response = np.loadtxt('/content/response.txt')\n",
        "control_runs = np.loadtxt('/content/control_runs.txt')"
      ],
      "execution_count": 9,
      "outputs": []
    },
    {
      "cell_type": "code",
      "metadata": {
        "id": "ELcIpt-kAg_b"
      },
      "source": [
        "run_order = np.hstack((control_runs.reshape(-1,1), response.reshape(-1,1))).flatten()"
      ],
      "execution_count": 26,
      "outputs": []
    },
    {
      "cell_type": "code",
      "metadata": {
        "colab": {
          "base_uri": "https://localhost:8080/"
        },
        "id": "mgeZMavU_Ihj",
        "outputId": "37176ea7-84ab-47d3-9996-2e69851e7043"
      },
      "source": [
        "design_mat"
      ],
      "execution_count": 10,
      "outputs": [
        {
          "output_type": "execute_result",
          "data": {
            "text/plain": [
              "array([[-1.,  1., -1.,  1.],\n",
              "       [ 1.,  1., -1., -1.],\n",
              "       [ 1.,  1.,  1.,  1.],\n",
              "       [ 1., -1.,  1., -1.],\n",
              "       [-1., -1., -1., -1.],\n",
              "       [-1.,  1.,  1., -1.],\n",
              "       [-1., -1.,  1.,  1.],\n",
              "       [ 1., -1., -1.,  1.]])"
            ]
          },
          "metadata": {},
          "execution_count": 10
        }
      ]
    },
    {
      "cell_type": "code",
      "metadata": {
        "colab": {
          "base_uri": "https://localhost:8080/"
        },
        "id": "W3kBFnEs_Ju1",
        "outputId": "c89b8916-c5ff-4457-f40a-b259064b7489"
      },
      "source": [
        "response"
      ],
      "execution_count": 11,
      "outputs": [
        {
          "output_type": "execute_result",
          "data": {
            "text/plain": [
              "array([153.4, 159.8, 156.2, 173.6, 176.5, 161.8, 173.4, 166.1])"
            ]
          },
          "metadata": {},
          "execution_count": 11
        }
      ]
    },
    {
      "cell_type": "code",
      "metadata": {
        "colab": {
          "base_uri": "https://localhost:8080/"
        },
        "id": "QyKg603a_KuG",
        "outputId": "b0570535-4c20-4a95-a21f-b9ab41d212e0"
      },
      "source": [
        "control_runs"
      ],
      "execution_count": 12,
      "outputs": [
        {
          "output_type": "execute_result",
          "data": {
            "text/plain": [
              "array([153.53237131, 161.32874687, 156.22402598, 158.45331008,\n",
              "       160.11202582, 159.02579784, 154.72158358, 157.37700207])"
            ]
          },
          "metadata": {},
          "execution_count": 12
        }
      ]
    },
    {
      "cell_type": "markdown",
      "metadata": {
        "id": "iFDbgtUv_UqV"
      },
      "source": [
        "# EDA"
      ]
    },
    {
      "cell_type": "code",
      "metadata": {
        "colab": {
          "base_uri": "https://localhost:8080/",
          "height": 295
        },
        "id": "L1NxX50K_WNd",
        "outputId": "f7501f8e-8b5c-47c1-b6a3-7480469f95d2"
      },
      "source": [
        " stats.probplot(response, dist=\"norm\", plot=pylab)\n",
        "pylab.show()"
      ],
      "execution_count": 14,
      "outputs": [
        {
          "output_type": "display_data",
          "data": {
            "image/png": "[encoded data removed]",
            "text/plain": [
              "<Figure size 432x288 with 1 Axes>"
            ]
          },
          "metadata": {
            "needs_background": "light"
          }
        }
      ]
    },
    {
      "cell_type": "code",
      "metadata": {
        "colab": {
          "base_uri": "https://localhost:8080/",
          "height": 295
        },
        "id": "BbGPY0BX_3b4",
        "outputId": "abefd839-0af8-4aaa-8173-8a7fac96c728"
      },
      "source": [
        "stats.probplot(control_runs, dist=\"norm\", plot=pylab)\n",
        "pylab.show()"
      ],
      "execution_count": 16,
      "outputs": [
        {
          "output_type": "display_data",
          "data": {
            "image/png": "[encoded data removed]",
            "text/plain": [
              "<Figure size 432x288 with 1 Axes>"
            ]
          },
          "metadata": {
            "needs_background": "light"
          }
        }
      ]
    },
    {
      "cell_type": "markdown",
      "metadata": {
        "id": "y4axnWuF_8kM"
      },
      "source": [
        "We see that both the trial run and control run response values are very nearly normally-distributed."
      ]
    },
    {
      "cell_type": "code",
      "metadata": {
        "colab": {
          "base_uri": "https://localhost:8080/",
          "height": 384
        },
        "id": "PoUAwC1CAaPf",
        "outputId": "7ad830aa-241f-4b55-bfac-61c0fd41f5e9"
      },
      "source": [
        "n = run_order.shape[0]\n",
        "x_axis = [[i] for i in range(1, int(n / 2) + 1)]\n",
        "plt.scatter(x_axis, control_runs, color='g' * int(n/2), label='Control Runs')\n",
        "plt.scatter(x_axis, response, color='r' * int(n/2), label='Trial Runs')\n",
        "plt.title('Run Order Plot')\n",
        "plt.xlabel('Run Order')\n",
        "plt.ylabel('Average Heart Rate')\n",
        "plt.legend()\n",
        "plt.show()"
      ],
      "execution_count": 47,
      "outputs": [
        {
          "output_type": "stream",
          "name": "stderr",
          "text": [
            "/usr/local/lib/python3.7/dist-packages/ipykernel_launcher.py:3: MatplotlibDeprecationWarning: Using a string of single character colors as a color sequence is deprecated. Use an explicit list instead.\n",
            "  This is separate from the ipykernel package so we can avoid doing imports until\n",
            "/usr/local/lib/python3.7/dist-packages/ipykernel_launcher.py:4: MatplotlibDeprecationWarning: Using a string of single character colors as a color sequence is deprecated. Use an explicit list instead.\n",
            "  after removing the cwd from sys.path.\n"
          ]
        },
        {
          "output_type": "display_data",
          "data": {
            "image/png": "[encoded data removed]",
            "text/plain": [
              "<Figure size 432x288 with 1 Axes>"
            ]
          },
          "metadata": {
            "needs_background": "light"
          }
        }
      ]
    },
    {
      "cell_type": "markdown",
      "metadata": {
        "id": "u1HMBGy6CjQP"
      },
      "source": [
        "We see that the control run values are roughly stable throughout the experiment, with no obvious increase over time, suggesting that the chosen wash-out period of one day between trials is in fact a sufficient rest period. We also note that four of the trial runs are associated with markedly elevated response values even as the control runs associated with them are not noticeably elevated above the other control runs. This suggests that the factor levels associated with runs 4, 5, 7, and 8 lead to an increased average heart rate over those associated with the other four trial runs."
      ]
    },
    {
      "cell_type": "code",
      "metadata": {
        "colab": {
          "base_uri": "https://localhost:8080/"
        },
        "id": "mUs-0WJCFSGz",
        "outputId": "894b2ebe-9678-4546-d954-6eca04153922"
      },
      "source": [
        "low_factor = response[design_mat[:,i] == -1]\n",
        "high_factor= response[design_mat[:,i] == -1]"
      ],
      "execution_count": 54,
      "outputs": [
        {
          "output_type": "execute_result",
          "data": {
            "text/plain": [
              "array([153.4, 176.5, 161.8, 173.4])"
            ]
          },
          "metadata": {},
          "execution_count": 54
        }
      ]
    },
    {
      "cell_type": "code",
      "metadata": {
        "colab": {
          "base_uri": "https://localhost:8080/",
          "height": 1000
        },
        "id": "rxxinyl8E5gj",
        "outputId": "67c636c5-7f91-498d-b684-be92d4fd2411"
      },
      "source": [
        "n_factors = design_mat.shape[1]\n",
        "for i in range(n_factors):\n",
        "    low_factor = response[design_mat[:,i] == -1]\n",
        "    high_factor= response[design_mat[:,i] == 1]\n",
        "    factors = np.hstack((low_factor.reshape(-1,1), high_factor.reshape(-1,1)))\n",
        "    plt.boxplot(factors, positions=(-1,1), )\n",
        "    plt.title('Box Plot for Factor %s' % int(i+1))\n",
        "    plt.show()"
      ],
      "execution_count": 71,
      "outputs": [
        {
          "output_type": "display_data",
          "data": {
            "image/png": "[encoded data removed]",
            "text/plain": [
              "<Figure size 432x288 with 1 Axes>"
            ]
          },
          "metadata": {
            "needs_background": "light"
          }
        },
        {
          "output_type": "display_data",
          "data": {
            "image/png": "[encoded data removed]",
            "text/plain": [
              "<Figure size 432x288 with 1 Axes>"
            ]
          },
          "metadata": {
            "needs_background": "light"
          }
        },
        {
          "output_type": "display_data",
          "data": {
            "image/png": "[encoded data removed]",
            "text/plain": [
              "<Figure size 432x288 with 1 Axes>"
            ]
          },
          "metadata": {
            "needs_background": "light"
          }
        },
        {
          "output_type": "display_data",
          "data": {
            "image/png": "[encoded data removed]",
            "text/plain": [
              "<Figure size 432x288 with 1 Axes>"
            ]
          },
          "metadata": {
            "needs_background": "light"
          }
        }
      ]
    },
    {
      "cell_type": "markdown",
      "metadata": {
        "id": "GyrnIv5YGBra"
      },
      "source": [
        "We see a marked difference in average response between the low and high levels of factor two, and a slightly smaller though still noticeable separation for factors four and three. Factor one appears to have no clear separation between the levels, algthough the variance in the low level runs is greater than in the high level runs."
      ]
    },
    {
      "cell_type": "markdown",
      "metadata": {
        "id": "y6F4t2TxN1kM"
      },
      "source": [
        "# Fit Linear Models"
      ]
    },
    {
      "cell_type": "code",
      "metadata": {
        "colab": {
          "base_uri": "https://localhost:8080/",
          "height": 300
        },
        "id": "PrjH7_YFOft-",
        "outputId": "56483d51-6820-4242-eb62-9abb7042d156"
      },
      "source": [
        "colnames = list(factor_labels.keys()) + ['heart_rate']\n",
        "data = pd.DataFrame(np.hstack((design_mat, response.reshape(-1,1))), columns=colnames)\n",
        "data"
      ],
      "execution_count": 74,
      "outputs": [
        {
          "output_type": "execute_result",
          "data": {
            "text/html": [
              "<div>\n",
              "<style scoped>\n",
              "    .dataframe tbody tr th:only-of-type {\n",
              "        vertical-align: middle;\n",
              "    }\n",
              "\n",
              "    .dataframe tbody tr th {\n",
              "        vertical-align: top;\n",
              "    }\n",
              "\n",
              "    .dataframe thead th {\n",
              "        text-align: right;\n",
              "    }\n",
              "</style>\n",
              "<table border=\"1\" class=\"dataframe\">\n",
              "  <thead>\n",
              "    <tr style=\"text-align: right;\">\n",
              "      <th></th>\n",
              "      <th>t_awake</th>\n",
              "      <th>fasting</th>\n",
              "      <th>coffee</th>\n",
              "      <th>t_run</th>\n",
              "      <th>heart_rate</th>\n",
              "    </tr>\n",
              "  </thead>\n",
              "  <tbody>\n",
              "    <tr>\n",
              "      <th>0</th>\n",
              "      <td>-1.0</td>\n",
              "      <td>1.0</td>\n",
              "      <td>-1.0</td>\n",
              "      <td>1.0</td>\n",
              "      <td>153.4</td>\n",
              "    </tr>\n",
              "    <tr>\n",
              "      <th>1</th>\n",
              "      <td>1.0</td>\n",
              "      <td>1.0</td>\n",
              "      <td>-1.0</td>\n",
              "      <td>-1.0</td>\n",
              "      <td>159.8</td>\n",
              "    </tr>\n",
              "    <tr>\n",
              "      <th>2</th>\n",
              "      <td>1.0</td>\n",
              "      <td>1.0</td>\n",
              "      <td>1.0</td>\n",
              "      <td>1.0</td>\n",
              "      <td>156.2</td>\n",
              "    </tr>\n",
              "    <tr>\n",
              "      <th>3</th>\n",
              "      <td>1.0</td>\n",
              "      <td>-1.0</td>\n",
              "      <td>1.0</td>\n",
              "      <td>-1.0</td>\n",
              "      <td>173.6</td>\n",
              "    </tr>\n",
              "    <tr>\n",
              "      <th>4</th>\n",
              "      <td>-1.0</td>\n",
              "      <td>-1.0</td>\n",
              "      <td>-1.0</td>\n",
              "      <td>-1.0</td>\n",
              "      <td>176.5</td>\n",
              "    </tr>\n",
              "    <tr>\n",
              "      <th>5</th>\n",
              "      <td>-1.0</td>\n",
              "      <td>1.0</td>\n",
              "      <td>1.0</td>\n",
              "      <td>-1.0</td>\n",
              "      <td>161.8</td>\n",
              "    </tr>\n",
              "    <tr>\n",
              "      <th>6</th>\n",
              "      <td>-1.0</td>\n",
              "      <td>-1.0</td>\n",
              "      <td>1.0</td>\n",
              "      <td>1.0</td>\n",
              "      <td>173.4</td>\n",
              "    </tr>\n",
              "    <tr>\n",
              "      <th>7</th>\n",
              "      <td>1.0</td>\n",
              "      <td>-1.0</td>\n",
              "      <td>-1.0</td>\n",
              "      <td>1.0</td>\n",
              "      <td>166.1</td>\n",
              "    </tr>\n",
              "  </tbody>\n",
              "</table>\n",
              "</div>"
            ],
            "text/plain": [
              "   t_awake  fasting  coffee  t_run  heart_rate\n",
              "0     -1.0      1.0    -1.0    1.0       153.4\n",
              "1      1.0      1.0    -1.0   -1.0       159.8\n",
              "2      1.0      1.0     1.0    1.0       156.2\n",
              "3      1.0     -1.0     1.0   -1.0       173.6\n",
              "4     -1.0     -1.0    -1.0   -1.0       176.5\n",
              "5     -1.0      1.0     1.0   -1.0       161.8\n",
              "6     -1.0     -1.0     1.0    1.0       173.4\n",
              "7      1.0     -1.0    -1.0    1.0       166.1"
            ]
          },
          "metadata": {},
          "execution_count": 74
        }
      ]
    },
    {
      "cell_type": "code",
      "metadata": {
        "colab": {
          "base_uri": "https://localhost:8080/"
        },
        "id": "86MqqsWCN3Lk",
        "outputId": "54cff63a-b3df-44d2-bdb5-f1ff821d0874"
      },
      "source": [
        "from statsmodels.formula.api import ols\n",
        "\n",
        "\n",
        "mod = ols('heart_rate ~ t_awake + fasting + coffee + t_run', data=data)\n",
        "res = mod.fit()\n",
        "table = sm.stats.anova_lm(res, typ=2)\n",
        "print(res.summary())"
      ],
      "execution_count": 75,
      "outputs": [
        {
          "output_type": "stream",
          "name": "stdout",
          "text": [
            "                            OLS Regression Results                            \n",
            "==============================================================================\n",
            "Dep. Variable:             heart_rate   R-squared:                       0.971\n",
            "Model:                            OLS   Adj. R-squared:                  0.932\n",
            "Method:                 Least Squares   F-statistic:                     24.94\n",
            "Date:                Fri, 03 Dec 2021   Prob (F-statistic):             0.0123\n",
            "Time:                        21:08:39   Log-Likelihood:                -13.969\n",
            "No. Observations:                   8   AIC:                             37.94\n",
            "Df Residuals:                       3   BIC:                             38.33\n",
            "Df Model:                           4                                         \n",
            "Covariance Type:            nonrobust                                         \n",
            "==============================================================================\n",
            "                 coef    std err          t      P>|t|      [0.025      0.975]\n",
            "------------------------------------------------------------------------------\n",
            "Intercept    165.1000      0.801    206.174      0.000     162.552     167.648\n",
            "t_awake       -1.1750      0.801     -1.467      0.239      -3.723       1.373\n",
            "fasting       -7.3000      0.801     -9.116      0.003      -9.848      -4.752\n",
            "coffee         1.1500      0.801      1.436      0.246      -1.398       3.698\n",
            "t_run         -2.8250      0.801     -3.528      0.039      -5.373      -0.277\n",
            "==============================================================================\n",
            "Omnibus:                        7.249   Durbin-Watson:                   2.971\n",
            "Prob(Omnibus):                  0.027   Jarque-Bera (JB):                1.245\n",
            "Skew:                          -0.027   Prob(JB):                        0.536\n",
            "Kurtosis:                       1.068   Cond. No.                         1.00\n",
            "==============================================================================\n",
            "\n",
            "Warnings:\n",
            "[1] Standard Errors assume that the covariance matrix of the errors is correctly specified.\n"
          ]
        },
        {
          "output_type": "stream",
          "name": "stderr",
          "text": [
            "/usr/local/lib/python3.7/dist-packages/scipy/stats/stats.py:1535: UserWarning: kurtosistest only valid for n>=20 ... continuing anyway, n=8\n",
            "  \"anyway, n=%i\" % int(n))\n"
          ]
        }
      ]
    },
    {
      "cell_type": "markdown",
      "metadata": {
        "id": "u7YLJ_XLIbFt"
      },
      "source": [
        "We see that factors two and four (`fasting` and `t_run`, respectively) are associated with effects which are signficant at the $5\\%$ level, whereas factors one and three are not.\n",
        "\n",
        "Thus it appears that `fasting` has a large negative effect on heart rate. Runs 4, 5, 7, and 8, in which I was not fasting, had noticeable spikes in heart rate. To test this, we re-fit with just the fasting indicator and `t_run`:"
      ]
    },
    {
      "cell_type": "code",
      "metadata": {
        "colab": {
          "base_uri": "https://localhost:8080/"
        },
        "id": "Q_4IzT2xX4W-",
        "outputId": "17a3dace-f1a5-464d-9089-32ae1dc3fff8"
      },
      "source": [
        "from statsmodels.formula.api import ols\n",
        "\n",
        "\n",
        "mod = ols('heart_rate ~ fasting + t_run', data=data)\n",
        "res = mod.fit()\n",
        "table = sm.stats.anova_lm(res, typ=2)\n",
        "print(res.summary())"
      ],
      "execution_count": 88,
      "outputs": [
        {
          "output_type": "stream",
          "name": "stdout",
          "text": [
            "                            OLS Regression Results                            \n",
            "==============================================================================\n",
            "Dep. Variable:             heart_rate   R-squared:                       0.930\n",
            "Model:                            OLS   Adj. R-squared:                  0.902\n",
            "Method:                 Least Squares   F-statistic:                     33.11\n",
            "Date:                Fri, 03 Dec 2021   Prob (F-statistic):            0.00131\n",
            "Time:                        21:27:13   Log-Likelihood:                -17.479\n",
            "No. Observations:                   8   AIC:                             40.96\n",
            "Df Residuals:                       5   BIC:                             41.20\n",
            "Df Model:                           2                                         \n",
            "Covariance Type:            nonrobust                                         \n",
            "==============================================================================\n",
            "                 coef    std err          t      P>|t|      [0.025      0.975]\n",
            "------------------------------------------------------------------------------\n",
            "Intercept    165.1000      0.962    171.628      0.000     162.627     167.573\n",
            "fasting       -7.3000      0.962     -7.589      0.001      -9.773      -4.827\n",
            "t_run         -2.8250      0.962     -2.937      0.032      -5.298      -0.352\n",
            "==============================================================================\n",
            "Omnibus:                        0.052   Durbin-Watson:                   2.205\n",
            "Prob(Omnibus):                  0.974   Jarque-Bera (JB):                0.227\n",
            "Skew:                           0.135   Prob(JB):                        0.893\n",
            "Kurtosis:                       2.220   Cond. No.                         1.00\n",
            "==============================================================================\n",
            "\n",
            "Warnings:\n",
            "[1] Standard Errors assume that the covariance matrix of the errors is correctly specified.\n"
          ]
        },
        {
          "output_type": "stream",
          "name": "stderr",
          "text": [
            "/usr/local/lib/python3.7/dist-packages/scipy/stats/stats.py:1535: UserWarning: kurtosistest only valid for n>=20 ... continuing anyway, n=8\n",
            "  \"anyway, n=%i\" % int(n))\n"
          ]
        }
      ]
    },
    {
      "cell_type": "markdown",
      "metadata": {
        "id": "pRReDsetY8-0"
      },
      "source": [
        "Looking at the R-squared value and noting that all of the effects are significant, it appears that this simpler model has a satisfactory fit."
      ]
    },
    {
      "cell_type": "code",
      "metadata": {
        "colab": {
          "base_uri": "https://localhost:8080/",
          "height": 295
        },
        "id": "opCuISOraTk4",
        "outputId": "24b940f0-1687-4713-d1df-85a973cd5f90"
      },
      "source": [
        "plt.scatter(data['fasting'], res.resid)\n",
        "plt.title('Residuals for Factor Two (`fasting`)')\n",
        "plt.xlabel('Level')\n",
        "plt.ylabel('Residual')\n",
        "plt.show()"
      ],
      "execution_count": 92,
      "outputs": [
        {
          "output_type": "display_data",
          "data": {
            "image/png": "[encoded data removed]",
            "text/plain": [
              "<Figure size 432x288 with 1 Axes>"
            ]
          },
          "metadata": {
            "needs_background": "light"
          }
        }
      ]
    },
    {
      "cell_type": "code",
      "metadata": {
        "colab": {
          "base_uri": "https://localhost:8080/",
          "height": 296
        },
        "id": "FR3ANPJ8aX2W",
        "outputId": "d4206484-982c-4cfe-9d1b-280a56aac0e8"
      },
      "source": [
        "plt.scatter(data['t_run'], res.resid)\n",
        "plt.title('Residuals for Factor Four (`t_run`)')\n",
        "plt.xlabel('Level')\n",
        "plt.ylabel('Residual')\n",
        "plt.show()"
      ],
      "execution_count": 93,
      "outputs": [
        {
          "output_type": "display_data",
          "data": {
            "image/png": "[encoded data removed]",
            "text/plain": [
              "<Figure size 432x288 with 1 Axes>"
            ]
          },
          "metadata": {
            "needs_background": "light"
          }
        }
      ]
    },
    {
      "cell_type": "code",
      "metadata": {
        "colab": {
          "base_uri": "https://localhost:8080/",
          "height": 295
        },
        "id": "-fXMB-FeX_4P",
        "outputId": "d7cf8540-c307-43eb-d6e3-fd698993c26f"
      },
      "source": [
        "plt.scatter(res.fittedvalues, res.resid)\n",
        "plt.title('Residuals Versus Predicted Heart Rate')\n",
        "plt.xlabel('Predicted Heart Rate')\n",
        "plt.ylabel('Residual')\n",
        "plt.show()"
      ],
      "execution_count": 97,
      "outputs": [
        {
          "output_type": "display_data",
          "data": {
            "image/png": "[encoded data removed]",
            "text/plain": [
              "<Figure size 432x288 with 1 Axes>"
            ]
          },
          "metadata": {
            "needs_background": "light"
          }
        }
      ]
    },
    {
      "cell_type": "markdown",
      "metadata": {
        "id": "f7ykNkchNyR1"
      },
      "source": [
        "We see that the residuals associated with the model fit are evenly distributed about the origin. Note that the pairing present in the residual plots is a product of the design itself."
      ]
    },
    {
      "cell_type": "markdown",
      "metadata": {
        "id": "_UjAiy1AkQ-w"
      },
      "source": [
        "# Conclusions"
      ]
    },
    {
      "cell_type": "markdown",
      "metadata": {
        "id": "q3VDaxx5kTUN"
      },
      "source": [
        "Based on the above analysis, factors two and four appear to have a significant effect on average heart rate during exercise, whereas factors one and three do not. \n",
        "\n",
        "We see that factor two is a associated with a large negative effect on average heart rate, which suggests that running while fasting leads to a reduced average heart rate versus running on a full stomach. \n",
        "\n",
        "We also see that factor four is associated with a negative effect on the response, suggesting that taking a day off between runs may lead to a lower average heart rate during the exercise.\n",
        "\n",
        "Anecdotally, running with a full stomach certainly feels much more difficult than running on an empty stomach, as does running on back to back days. This suggests that the results obtained are in accord with my own experience."
      ]
    },
    {
      "cell_type": "code",
      "metadata": {
        "id": "O0FTF4zcTA9J"
      },
      "source": [
        "paces = np.loadtxt('/content/paces.txt')\n",
        "paces_c, paces_t = paces.reshape(-1,2).T"
      ],
      "execution_count": 401,
      "outputs": []
    },
    {
      "cell_type": "code",
      "metadata": {
        "colab": {
          "base_uri": "https://localhost:8080/",
          "height": 384
        },
        "id": "o-r_na-8Rulr",
        "outputId": "be8fc085-057b-43bd-d6e2-60e9c7c7c437"
      },
      "source": [
        "n = run_order.shape[0]\n",
        "x_axis = [[i] for i in range(1, int(n / 2) + 1)]\n",
        "plt.scatter(x_axis, paces_c, color='g' * int(n/2), label='Control Runs')\n",
        "plt.scatter(x_axis, paces_t, color='r' * int(n/2), label='Trial Runs')\n",
        "plt.title('Average Pace Per Run (Both Control and Trial)')\n",
        "plt.xlabel('Run Order')\n",
        "plt.ylabel('Average Pace (in seconds)')\n",
        "plt.hlines(510, 1, 8, label='Target pace (in seconds)')\n",
        "plt.legend()\n",
        "plt.show()"
      ],
      "execution_count": 402,
      "outputs": [
        {
          "output_type": "stream",
          "name": "stderr",
          "text": [
            "/usr/local/lib/python3.7/dist-packages/ipykernel_launcher.py:3: MatplotlibDeprecationWarning: Using a string of single character colors as a color sequence is deprecated. Use an explicit list instead.\n",
            "  This is separate from the ipykernel package so we can avoid doing imports until\n",
            "/usr/local/lib/python3.7/dist-packages/ipykernel_launcher.py:4: MatplotlibDeprecationWarning: Using a string of single character colors as a color sequence is deprecated. Use an explicit list instead.\n",
            "  after removing the cwd from sys.path.\n"
          ]
        },
        {
          "output_type": "display_data",
          "data": {
            "image/png": "[encoded data removed]",
            "text/plain": [
              "<Figure size 432x288 with 1 Axes>"
            ]
          },
          "metadata": {
            "needs_background": "light"
          }
        }
      ]
    },
    {
      "cell_type": "code",
      "metadata": {
        "colab": {
          "base_uri": "https://localhost:8080/",
          "height": 295
        },
        "id": "IjKotvZ2e-ma",
        "outputId": "a0ecf9f6-886c-4462-e4eb-3686bde9cacc"
      },
      "source": [
        "plt.scatter(data['heart_rate'], data['pace'])\n",
        "plt.title('Average Heart Rate Versus Pace')\n",
        "plt.xlabel('Average Heart Rate')\n",
        "plt.ylabel('Average Pace (in seconds)')\n",
        "min_hr = data['heart_rate'].min()\n",
        "max_hr = data['heart_rate'].max()\n",
        "plt.hlines(510, min_hr, max_hr, label='Target pace (in seconds)')\n",
        "plt.legend()\n",
        "plt.show()"
      ],
      "execution_count": 403,
      "outputs": [
        {
          "output_type": "display_data",
          "data": {
            "image/png": "[encoded data removed]",
            "text/plain": [
              "<Figure size 432x288 with 1 Axes>"
            ]
          },
          "metadata": {
            "needs_background": "light"
          }
        }
      ]
    },
    {
      "cell_type": "code",
      "metadata": {
        "id": "P062qJyDWHQ4"
      },
      "source": [
        "data['pace'] = paces_t"
      ],
      "execution_count": 404,
      "outputs": []
    },
    {
      "cell_type": "code",
      "metadata": {
        "colab": {
          "base_uri": "https://localhost:8080/"
        },
        "id": "1UWElkuEWOHn",
        "outputId": "5bcba0ec-fa01-481e-85d7-88505e53fbb2"
      },
      "source": [
        "from statsmodels.formula.api import ols\n",
        "\n",
        "\n",
        "mod = ols('heart_rate ~ pace', data=data)\n",
        "res = mod.fit()\n",
        "table = sm.stats.anova_lm(res, typ=2)\n",
        "print(res.summary())"
      ],
      "execution_count": 405,
      "outputs": [
        {
          "output_type": "stream",
          "name": "stdout",
          "text": [
            "                            OLS Regression Results                            \n",
            "==============================================================================\n",
            "Dep. Variable:             heart_rate   R-squared:                       0.070\n",
            "Model:                            OLS   Adj. R-squared:                 -0.085\n",
            "Method:                 Least Squares   F-statistic:                    0.4518\n",
            "Date:                Fri, 03 Dec 2021   Prob (F-statistic):              0.526\n",
            "Time:                        22:53:25   Log-Likelihood:                -27.813\n",
            "No. Observations:                   8   AIC:                             59.63\n",
            "Df Residuals:                       6   BIC:                             59.79\n",
            "Df Model:                           1                                         \n",
            "Covariance Type:            nonrobust                                         \n",
            "==============================================================================\n",
            "                 coef    std err          t      P>|t|      [0.025      0.975]\n",
            "------------------------------------------------------------------------------\n",
            "Intercept    377.7200    316.331      1.194      0.278    -396.314    1151.754\n",
            "pace          -0.4184      0.622     -0.672      0.526      -1.941       1.105\n",
            "==============================================================================\n",
            "Omnibus:                        0.212   Durbin-Watson:                   1.461\n",
            "Prob(Omnibus):                  0.900   Jarque-Bera (JB):                0.354\n",
            "Skew:                          -0.243   Prob(JB):                        0.838\n",
            "Kurtosis:                       2.090   Cond. No.                     5.03e+04\n",
            "==============================================================================\n",
            "\n",
            "Warnings:\n",
            "[1] Standard Errors assume that the covariance matrix of the errors is correctly specified.\n",
            "[2] The condition number is large, 5.03e+04. This might indicate that there are\n",
            "strong multicollinearity or other numerical problems.\n"
          ]
        },
        {
          "output_type": "stream",
          "name": "stderr",
          "text": [
            "/usr/local/lib/python3.7/dist-packages/scipy/stats/stats.py:1535: UserWarning: kurtosistest only valid for n>=20 ... continuing anyway, n=8\n",
            "  \"anyway, n=%i\" % int(n))\n"
          ]
        }
      ]
    },
    {
      "cell_type": "markdown",
      "metadata": {
        "id": "SdgofEIQXhnO"
      },
      "source": [
        "Unsurprisingly, pace appears to be (slightly) negatively correlated with average heart rate (i.e. as one runs faster, one's heart rate increases). The effect, however, is very small, likely resulting from the small variation in pace between runs."
      ]
    },
    {
      "cell_type": "code",
      "metadata": {
        "colab": {
          "base_uri": "https://localhost:8080/"
        },
        "id": "8e8H1cwenHh8",
        "outputId": "7126159e-938f-4b2a-ee0b-184f572859c1"
      },
      "source": [
        "np.std(data['pace'])"
      ],
      "execution_count": 409,
      "outputs": [
        {
          "output_type": "execute_result",
          "data": {
            "text/plain": [
              "5.134754387021429"
            ]
          },
          "metadata": {},
          "execution_count": 409
        }
      ]
    },
    {
      "cell_type": "markdown",
      "metadata": {
        "id": "ZmkRT_lJnPKF"
      },
      "source": [
        "With the standard deviation above, roughly 5 seconds per mile or less than one percent of the average pace, it is likely that the differences in heart rate attributable to differences in pace would be small, which is borne out by the results of the regression above. If I had not attempted to match pace between runs, then we would expect to identify a much stronger relationship between pace and heart rate. But because there is little variation in pace, the effect of other factors on average heart rate appears to outweigh that of pace in this sample. To verify that the results of the analysis above are not significantly affected by `pace`, we add `pace` to the full regression model as a covariate."
      ]
    },
    {
      "cell_type": "code",
      "metadata": {
        "colab": {
          "base_uri": "https://localhost:8080/"
        },
        "id": "SSiUX7NtXP5o",
        "outputId": "01cbecd0-e32a-4510-c1ca-f3991980bb1f"
      },
      "source": [
        "from statsmodels.formula.api import ols\n",
        "\n",
        "\n",
        "mod = ols('heart_rate ~ t_awake + fasting + coffee + t_run + pace', data=data)\n",
        "res = mod.fit()\n",
        "table = sm.stats.anova_lm(res, typ=2)\n",
        "print(res.summary())"
      ],
      "execution_count": 406,
      "outputs": [
        {
          "output_type": "stream",
          "name": "stdout",
          "text": [
            "                            OLS Regression Results                            \n",
            "==============================================================================\n",
            "Dep. Variable:             heart_rate   R-squared:                       0.992\n",
            "Model:                            OLS   Adj. R-squared:                  0.971\n",
            "Method:                 Least Squares   F-statistic:                     47.22\n",
            "Date:                Fri, 03 Dec 2021   Prob (F-statistic):             0.0209\n",
            "Time:                        22:53:25   Log-Likelihood:                -8.9857\n",
            "No. Observations:                   8   AIC:                             29.97\n",
            "Df Residuals:                       2   BIC:                             30.45\n",
            "Df Model:                           5                                         \n",
            "Covariance Type:            nonrobust                                         \n",
            "==============================================================================\n",
            "                 coef    std err          t      P>|t|      [0.025      0.975]\n",
            "------------------------------------------------------------------------------\n",
            "Intercept      3.0227     72.844      0.041      0.971    -310.399     316.444\n",
            "t_awake       -1.6447      0.567     -2.901      0.101      -4.084       0.794\n",
            "fasting       -7.8502      0.581    -13.505      0.005     -10.351      -5.349\n",
            "coffee         0.3731      0.631      0.591      0.615      -2.344       3.090\n",
            "t_run         -3.2544      0.560     -5.808      0.028      -5.665      -0.843\n",
            "pace           0.3189      0.143      2.225      0.156      -0.298       0.936\n",
            "==============================================================================\n",
            "Omnibus:                        0.345   Durbin-Watson:                   2.180\n",
            "Prob(Omnibus):                  0.842   Jarque-Bera (JB):                0.432\n",
            "Skew:                           0.254   Prob(JB):                        0.806\n",
            "Kurtosis:                       1.981   Cond. No.                     7.04e+04\n",
            "==============================================================================\n",
            "\n",
            "Warnings:\n",
            "[1] Standard Errors assume that the covariance matrix of the errors is correctly specified.\n",
            "[2] The condition number is large, 7.04e+04. This might indicate that there are\n",
            "strong multicollinearity or other numerical problems.\n"
          ]
        },
        {
          "output_type": "stream",
          "name": "stderr",
          "text": [
            "/usr/local/lib/python3.7/dist-packages/scipy/stats/stats.py:1535: UserWarning: kurtosistest only valid for n>=20 ... continuing anyway, n=8\n",
            "  \"anyway, n=%i\" % int(n))\n"
          ]
        }
      ]
    },
    {
      "cell_type": "markdown",
      "metadata": {
        "id": "q91Acl19gPrQ"
      },
      "source": [
        "We see that, in the extended model, the factors `fasting` and `t_run` (factors two and four, respectively) are again significant at the $5\\%$ level, whereas the other two are not. This matches the results of model fit without `pace` as a covariate."
      ]
    }
  ]
}